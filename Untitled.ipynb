{
 "cells": [
  {
   "cell_type": "code",
   "execution_count": 54,
   "metadata": {},
   "outputs": [],
   "source": [
    "import pandas as pd"
   ]
  },
  {
   "cell_type": "code",
   "execution_count": 55,
   "metadata": {},
   "outputs": [],
   "source": [
    "df=pd.read_excel('comparison_of_iits_nits_private-converted.xlsx')"
   ]
  },
  {
   "cell_type": "code",
   "execution_count": 56,
   "metadata": {},
   "outputs": [
    {
     "data": {
      "text/html": [
       "<div>\n",
       "<style scoped>\n",
       "    .dataframe tbody tr th:only-of-type {\n",
       "        vertical-align: middle;\n",
       "    }\n",
       "\n",
       "    .dataframe tbody tr th {\n",
       "        vertical-align: top;\n",
       "    }\n",
       "\n",
       "    .dataframe thead th {\n",
       "        text-align: right;\n",
       "    }\n",
       "</style>\n",
       "<table border=\"1\" class=\"dataframe\">\n",
       "  <thead>\n",
       "    <tr style=\"text-align: right;\">\n",
       "      <th></th>\n",
       "      <th>Institution name</th>\n",
       "      <th>Location</th>\n",
       "      <th>Establishment year</th>\n",
       "      <th>TP</th>\n",
       "      <th>TC</th>\n",
       "      <th>ACPP</th>\n",
       "      <th>ICP</th>\n",
       "      <th>h-index</th>\n",
       "      <th>HiCP\n",
       "contribution</th>\n",
       "    </tr>\n",
       "  </thead>\n",
       "  <tbody>\n",
       "    <tr>\n",
       "      <th>0</th>\n",
       "      <td>Standford</td>\n",
       "      <td>Manipal, Karnataka</td>\n",
       "      <td>1956</td>\n",
       "      <td>7018</td>\n",
       "      <td>14020</td>\n",
       "      <td>3.49</td>\n",
       "      <td>812</td>\n",
       "      <td>36</td>\n",
       "      <td>5</td>\n",
       "    </tr>\n",
       "    <tr>\n",
       "      <th>1</th>\n",
       "      <td>IIT delhi</td>\n",
       "      <td>Vellore, Tamil Nadu</td>\n",
       "      <td>1984</td>\n",
       "      <td>3570</td>\n",
       "      <td>15542</td>\n",
       "      <td>4.35</td>\n",
       "      <td>729</td>\n",
       "      <td>37</td>\n",
       "      <td>14</td>\n",
       "    </tr>\n",
       "    <tr>\n",
       "      <th>2</th>\n",
       "      <td>DU</td>\n",
       "      <td>Patiala, Punjab</td>\n",
       "      <td>1956</td>\n",
       "      <td>2170</td>\n",
       "      <td>11993</td>\n",
       "      <td>5.28</td>\n",
       "      <td>320</td>\n",
       "      <td>36</td>\n",
       "      <td>9</td>\n",
       "    </tr>\n",
       "    <tr>\n",
       "      <th>3</th>\n",
       "      <td>NIT Trichy</td>\n",
       "      <td>Pilani, Rajasthan</td>\n",
       "      <td>1964</td>\n",
       "      <td>2254</td>\n",
       "      <td>18658</td>\n",
       "      <td>8.28</td>\n",
       "      <td>649</td>\n",
       "      <td>49</td>\n",
       "      <td>27</td>\n",
       "    </tr>\n",
       "    <tr>\n",
       "      <th>4</th>\n",
       "      <td>Jamia Hamdard</td>\n",
       "      <td>New Delhi, Delhi</td>\n",
       "      <td>1989</td>\n",
       "      <td>1950</td>\n",
       "      <td>15588</td>\n",
       "      <td>7.99</td>\n",
       "      <td>443</td>\n",
       "      <td>45</td>\n",
       "      <td>20</td>\n",
       "    </tr>\n",
       "  </tbody>\n",
       "</table>\n",
       "</div>"
      ],
      "text/plain": [
       "  Institution name             Location  Establishment year    TP     TC  \\\n",
       "0        Standford   Manipal, Karnataka                1956  7018  14020   \n",
       "1        IIT delhi  Vellore, Tamil Nadu                1984  3570  15542   \n",
       "2               DU      Patiala, Punjab                1956  2170  11993   \n",
       "3       NIT Trichy    Pilani, Rajasthan                1964  2254  18658   \n",
       "4    Jamia Hamdard     New Delhi, Delhi                1989  1950  15588   \n",
       "\n",
       "   ACPP  ICP  h-index  HiCP\\ncontribution  \n",
       "0  3.49  812       36                   5  \n",
       "1  4.35  729       37                  14  \n",
       "2  5.28  320       36                   9  \n",
       "3  8.28  649       49                  27  \n",
       "4  7.99  443       45                  20  "
      ]
     },
     "execution_count": 56,
     "metadata": {},
     "output_type": "execute_result"
    }
   ],
   "source": [
    "df.head()"
   ]
  },
  {
   "cell_type": "code",
   "execution_count": 57,
   "metadata": {},
   "outputs": [
    {
     "name": "stdout",
     "output_type": "stream",
     "text": [
      "<class 'pandas.core.frame.DataFrame'>\n",
      "RangeIndex: 5 entries, 0 to 4\n",
      "Data columns (total 9 columns):\n",
      "Institution name      5 non-null object\n",
      "Location              5 non-null object\n",
      "Establishment year    5 non-null int64\n",
      "TP                    5 non-null int64\n",
      "TC                    5 non-null int64\n",
      "ACPP                  5 non-null float64\n",
      "ICP                   5 non-null int64\n",
      "h-index               5 non-null int64\n",
      "HiCP\n",
      "contribution     5 non-null int64\n",
      "dtypes: float64(1), int64(6), object(2)\n",
      "memory usage: 440.0+ bytes\n"
     ]
    }
   ],
   "source": [
    "df.info()"
   ]
  },
  {
   "cell_type": "code",
   "execution_count": 58,
   "metadata": {},
   "outputs": [],
   "source": [
    "import matplotlib.pyplot as plt\n",
    "import seaborn as sns\n",
    "pd.plotting.register_matplotlib_converters()\n",
    "%matplotlib inline"
   ]
  },
  {
   "cell_type": "code",
   "execution_count": 59,
   "metadata": {},
   "outputs": [],
   "source": [
    "X=df['Institution name']\n",
    "Y=df['TP']"
   ]
  },
  {
   "cell_type": "code",
   "execution_count": 60,
   "metadata": {},
   "outputs": [
    {
     "data": {
      "image/png": "[encoded data removed]",
      "text/plain": [
       "<Figure size 432x288 with 1 Axes>"
      ]
     },
     "metadata": {
      "needs_background": "light"
     },
     "output_type": "display_data"
    }
   ],
   "source": [
    "ax = sns.barplot(x=X, y=Y, data=df)\n"
   ]
  },
  {
   "cell_type": "code",
   "execution_count": null,
   "metadata": {},
   "outputs": [],
   "source": []
  },
  {
   "cell_type": "code",
   "execution_count": null,
   "metadata": {},
   "outputs": [],
   "source": []
  }
 ],
 "metadata": {
  "kernelspec": {
   "display_name": "Python 3",
   "language": "python",
   "name": "python3"
  },
  "language_info": {
   "codemirror_mode": {
    "name": "ipython",
    "version": 3
   },
   "file_extension": ".py",
   "mimetype": "text/x-python",
   "name": "python",
   "nbconvert_exporter": "python",
   "pygments_lexer": "ipython3",
   "version": "3.7.3"
  }
 },
 "nbformat": 4,
 "nbformat_minor": 2
}
